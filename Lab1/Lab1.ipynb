{
 "cells": [
  {
   "cell_type": "code",
   "execution_count": 1,
   "id": "c71693d8",
   "metadata": {},
   "outputs": [],
   "source": [
    "import numpy as np\n",
    "import scipy\n",
    "import matplotlib\n",
    "import matplotlib.pyplot as plt\n",
    "import pandas as pd"
   ]
  },
  {
   "cell_type": "markdown",
   "id": "aa991f00",
   "metadata": {},
   "source": [
    "Zadanie 3. W tym zadaniu utworzony został jeden wspólny wykres, na którym umieszczono przebiegi zadanej funkcji dla podanych trzech różnych zakresów argumentów. Dla zobrazowania, który przebieg dotyczy którego zakresu argumentów użyto legendy. "
   ]
  },
  {
   "cell_type": "code",
   "execution_count": 19,
   "id": "0760bc99",
   "metadata": {},
   "outputs": [
    {
     "data": {
      "image/png": "[encoded data removed]",
      "text/plain": [
       "<Figure size 432x288 with 1 Axes>"
      ]
     },
     "metadata": {
      "needs_background": "light"
     },
     "output_type": "display_data"
    }
   ],
   "source": [
    "f = lambda x: x * x + 5\n",
    "\n",
    "x1 = np.linspace(-1, 1, 1000)\n",
    "x2 = np.linspace(-6, 6, 1000)\n",
    "x3 = np.linspace(0, 5, 1000)\n",
    "\n",
    "y1 = f(x1)\n",
    "y2 = f(x2)\n",
    "y3 = f(x3)\n",
    "\n",
    "plt.plot(x1, y1,'r', label=\"-1<x<1\", linewidth=5)\n",
    "plt.xlabel(\"Oś x\")\n",
    "plt.ylabel(\"Oś y\")\n",
    "plt.title(\"Wykres funkcji $x^2$ + 5\")\n",
    "\n",
    "plt.plot(x2, y2, 'b', label=\"-6<x<6\")\n",
    "plt.plot(x3, y3, 'g', label=\"0<x<5\", linewidth=3)\n",
    "    \n",
    "plt.legend()\n",
    "plt.show()"
   ]
  },
  {
   "cell_type": "markdown",
   "id": "12b3e4cc",
   "metadata": {},
   "source": [
    "Zadanie 4. W tym zadaniu użyto biblioteki pandas do stworzenia prostej bazy danych, a następnie przeanalizowano działanie funkcji pozwalających na uzyskanie informacji o tej bazie i danych znajdujących się w niej."
   ]
  },
  {
   "cell_type": "code",
   "execution_count": 18,
   "id": "4a011269",
   "metadata": {},
   "outputs": [
    {
     "name": "stdout",
     "output_type": "stream",
     "text": [
      "<class 'pandas.core.frame.DataFrame'>\n",
      "RangeIndex: 5 entries, 0 to 4\n",
      "Data columns (total 4 columns):\n",
      " #   Column   Non-Null Count  Dtype \n",
      "---  ------   --------------  ----- \n",
      " 0   name     5 non-null      object\n",
      " 1   surname  5 non-null      object\n",
      " 2   age      5 non-null      int64 \n",
      " 3   sex      5 non-null      object\n",
      "dtypes: int64(1), object(3)\n",
      "memory usage: 288.0+ bytes\n",
      "\n",
      "\n",
      "             age\n",
      "count   5.000000\n",
      "mean   52.400000\n",
      "std    11.304866\n",
      "min    35.000000\n",
      "25%    47.000000\n",
      "50%    59.000000\n",
      "75%    59.000000\n",
      "max    62.000000\n"
     ]
    },
    {
     "data": {
      "text/html": [
       "<div>\n",
       "<style scoped>\n",
       "    .dataframe tbody tr th:only-of-type {\n",
       "        vertical-align: middle;\n",
       "    }\n",
       "\n",
       "    .dataframe tbody tr th {\n",
       "        vertical-align: top;\n",
       "    }\n",
       "\n",
       "    .dataframe thead th {\n",
       "        text-align: right;\n",
       "    }\n",
       "</style>\n",
       "<table border=\"1\" class=\"dataframe\">\n",
       "  <thead>\n",
       "    <tr style=\"text-align: right;\">\n",
       "      <th></th>\n",
       "      <th>name</th>\n",
       "      <th>surname</th>\n",
       "      <th>age</th>\n",
       "      <th>sex</th>\n",
       "    </tr>\n",
       "  </thead>\n",
       "  <tbody>\n",
       "    <tr>\n",
       "      <th>0</th>\n",
       "      <td>Krzysztof</td>\n",
       "      <td>Kononowicz</td>\n",
       "      <td>59</td>\n",
       "      <td>male</td>\n",
       "    </tr>\n",
       "    <tr>\n",
       "      <th>1</th>\n",
       "      <td>Zbigniew</td>\n",
       "      <td>Stonoga</td>\n",
       "      <td>47</td>\n",
       "      <td>male</td>\n",
       "    </tr>\n",
       "    <tr>\n",
       "      <th>2</th>\n",
       "      <td>Robert</td>\n",
       "      <td>Makłowicz</td>\n",
       "      <td>59</td>\n",
       "      <td>male</td>\n",
       "    </tr>\n",
       "  </tbody>\n",
       "</table>\n",
       "</div>"
      ],
      "text/plain": [
       "        name     surname  age   sex\n",
       "0  Krzysztof  Kononowicz   59  male\n",
       "1   Zbigniew     Stonoga   47  male\n",
       "2     Robert   Makłowicz   59  male"
      ]
     },
     "execution_count": 18,
     "metadata": {},
     "output_type": "execute_result"
    }
   ],
   "source": [
    "data = {'name' : ['Krzysztof', 'Zbigniew', 'Robert', 'Pierluigi', 'Tytus'],\n",
    "        'surname' : ['Kononowicz', 'Stonoga', 'Makłowicz', 'Collina', 'Bomba'],\n",
    "        'age' : [59, 47, 59, 62, 35],\n",
    "        'sex' : ['male', 'male', 'male', 'male', 'male'],\n",
    "    \n",
    "}\n",
    "rejestr = pd.DataFrame(data)\n",
    "rejestr.info()\n",
    "print('\\n')\n",
    "print(rejestr.describe())\n",
    "rejestr.head(3)"
   ]
  }
 ],
 "metadata": {
  "kernelspec": {
   "display_name": "Python 3",
   "language": "python",
   "name": "python3"
  },
  "language_info": {
   "codemirror_mode": {
    "name": "ipython",
    "version": 3
   },
   "file_extension": ".py",
   "mimetype": "text/x-python",
   "name": "python",
   "nbconvert_exporter": "python",
   "pygments_lexer": "ipython3",
   "version": "3.8.8"
  }
 },
 "nbformat": 4,
 "nbformat_minor": 5
}
